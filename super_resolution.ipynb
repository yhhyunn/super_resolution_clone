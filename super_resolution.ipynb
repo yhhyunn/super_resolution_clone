{
 "metadata": {
  "language_info": {
   "codemirror_mode": {
    "name": "ipython",
    "version": 3
   },
   "file_extension": ".py",
   "mimetype": "text/x-python",
   "name": "python",
   "nbconvert_exporter": "python",
   "pygments_lexer": "ipython3",
   "version": "3.7.7-final"
  },
  "orig_nbformat": 2,
  "kernelspec": {
   "name": "python_defaultSpec_1596970954738",
   "display_name": "Python 3.7.7 64-bit (conda)"
  }
 },
 "nbformat": 4,
 "nbformat_minor": 2,
 "cells": [
  {
   "cell_type": "code",
   "execution_count": null,
   "metadata": {},
   "outputs": [],
   "source": [
    "\"\"\"\n",
    "44x44 to 176x176\n",
    "\"\"\"\n",
    "\n",
    "DATA_DIR = \"D:\\\\00_MLDL\\\\00_BreadBrother\\\\02_Super_Resolution\\\\\""
   ]
  }
 ]
}